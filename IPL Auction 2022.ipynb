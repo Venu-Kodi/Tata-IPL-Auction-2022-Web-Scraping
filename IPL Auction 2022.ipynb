{
 "cells": [
  {
   "cell_type": "markdown",
   "id": "6a867fc7-bb6e-4254-a15f-1702001b968f",
   "metadata": {},
   "source": [
    "Tata ipl Auction 2022 through website data scraping using BeautifulSoup by KODI VENU"
   ]
  },
  {
   "cell_type": "code",
   "execution_count": 3,
   "id": "e7cf6503-4270-43f9-8eeb-5f41335cd2d0",
   "metadata": {},
   "outputs": [],
   "source": [
    "import pandas as pd\n",
    "import requests\n",
    "from bs4 import BeautifulSoup"
   ]
  },
  {
   "cell_type": "code",
   "execution_count": 5,
   "id": "3dd861f9-32d6-41c8-88e3-a0c9bccf75e9",
   "metadata": {},
   "outputs": [],
   "source": [
    "url = \"https://www.iplt20.com/auction/2022\""
   ]
  },
  {
   "cell_type": "code",
   "execution_count": 7,
   "id": "2b91e585-2d9d-4209-b4c2-29ba46e25070",
   "metadata": {},
   "outputs": [],
   "source": [
    "r = requests.get(\"https://www.iplt20.com/auction/2022\")"
   ]
  },
  {
   "cell_type": "code",
   "execution_count": 35,
   "id": "971a7a4a-0c6f-4cb0-a0d9-67b1967bf79c",
   "metadata": {},
   "outputs": [],
   "source": [
    "#print(r)"
   ]
  },
  {
   "cell_type": "code",
   "execution_count": 11,
   "id": "753f7c19-78ae-439d-8244-3f7af6dd56a9",
   "metadata": {},
   "outputs": [],
   "source": [
    "soup = BeautifulSoup(r.text,\"lxml\")"
   ]
  },
  {
   "cell_type": "code",
   "execution_count": 33,
   "id": "724c5d30-d4fd-4a03-ad09-d94be179d47c",
   "metadata": {},
   "outputs": [],
   "source": [
    "#print(soup)"
   ]
  },
  {
   "cell_type": "code",
   "execution_count": 21,
   "id": "a9935d9c-f2b9-4aa0-94fe-21165ef5aa4e",
   "metadata": {},
   "outputs": [],
   "source": [
    "table = soup.find(\"table\",class_ =\"ih-td-tab auction-tbl\")"
   ]
  },
  {
   "cell_type": "code",
   "execution_count": 31,
   "id": "40a8541b-3388-421b-9e35-118608aeaf5d",
   "metadata": {},
   "outputs": [],
   "source": [
    "#print(table)"
   ]
  },
  {
   "cell_type": "code",
   "execution_count": 25,
   "id": "5a165b1f-f346-4dbe-a724-40a3ef5df1a7",
   "metadata": {},
   "outputs": [],
   "source": [
    "title = soup.find_all (\"th\")"
   ]
  },
  {
   "cell_type": "code",
   "execution_count": 29,
   "id": "e73ccac1-fc0c-4235-83fd-877f1fc97a86",
   "metadata": {},
   "outputs": [],
   "source": [
    "#print(title)"
   ]
  },
  {
   "cell_type": "code",
   "execution_count": 37,
   "id": "4237edf4-6fef-4ee2-a317-5a6b3011ca27",
   "metadata": {},
   "outputs": [],
   "source": [
    "header = []\n",
    "for i in title:\n",
    "    name = i.text\n",
    "    header.append(name)"
   ]
  },
  {
   "cell_type": "code",
   "execution_count": 39,
   "id": "e2b4a8ad-9718-45b2-aa85-88dc03978ce8",
   "metadata": {},
   "outputs": [
    {
     "name": "stdout",
     "output_type": "stream",
     "text": [
      "['TEAM', 'FUNDS REMAINING', 'OVERSEAS PLAYERS ', 'TOTAL PLAYERS', 'TEAM', 'PLAYER', 'TYPE ', 'PRICE', 'PLAYER', 'NATIONALITY', 'TYPE', 'BASE PRICE', 'PLAYER', 'NATIONALITY', 'TYPE', 'PRICE PAID', 'PLAYER', 'NATIONALITY', 'TYPE', 'PRICE PAID', 'PLAYER', 'NATIONALITY', 'TYPE', 'PRICE PAID', 'PLAYER', 'NATIONALITY', 'TYPE', 'PRICE PAID', 'PLAYER', 'NATIONALITY', 'TYPE', 'PRICE PAID', 'PLAYER', 'NATIONALITY', 'TYPE', 'PRICE PAID', 'PLAYER', 'NATIONALITY', 'TYPE', 'PRICE PAID', 'PLAYER', 'NATIONALITY', 'TYPE', 'PRICE PAID', 'PLAYER', 'NATIONALITY', 'TYPE', 'PRICE PAID', 'PLAYER', 'NATIONALITY', 'TYPE', 'PRICE PAID', 'PLAYER', 'NATIONALITY', 'TYPE', 'BASE PRICE', 'Role', 'Nationality', 'Bats', 'Bowls', 'Bio']\n"
     ]
    }
   ],
   "source": [
    "print(header)"
   ]
  },
  {
   "cell_type": "code",
   "execution_count": 41,
   "id": "43c8eb99-9bac-4ce7-86d0-8a1a56174f3a",
   "metadata": {},
   "outputs": [],
   "source": [
    "title = table.find_all(\"th\")"
   ]
  },
  {
   "cell_type": "code",
   "execution_count": 43,
   "id": "5eb735a3-e369-4fae-83c7-d05c11a05012",
   "metadata": {},
   "outputs": [],
   "source": [
    "header = []\n",
    "for i in title:\n",
    "    name = i.text\n",
    "    header.append(name)"
   ]
  },
  {
   "cell_type": "code",
   "execution_count": 45,
   "id": "ee46d6af-1c6b-4a40-b733-5499e000f392",
   "metadata": {},
   "outputs": [
    {
     "name": "stdout",
     "output_type": "stream",
     "text": [
      "['TEAM', 'FUNDS REMAINING', 'OVERSEAS PLAYERS ', 'TOTAL PLAYERS']\n"
     ]
    }
   ],
   "source": [
    "print(header)"
   ]
  },
  {
   "cell_type": "code",
   "execution_count": 53,
   "id": "3d35c863-29fd-4fb0-83e3-2c7736d06e7c",
   "metadata": {},
   "outputs": [],
   "source": [
    "df = pd.DataFrame(columns=header)\n",
    "#print(df)"
   ]
  },
  {
   "cell_type": "code",
   "execution_count": 55,
   "id": "1402b666-6255-4c12-9257-d326ebd8585e",
   "metadata": {},
   "outputs": [],
   "source": [
    "rows = table.find_all(\"tr\")\n",
    "#print(row)"
   ]
  },
  {
   "cell_type": "code",
   "execution_count": 59,
   "id": "31a19a5b-d06c-482d-b858-f42516e8660d",
   "metadata": {},
   "outputs": [],
   "source": [
    "for i in rows[1:]:\n",
    "    data = i.find_all(\"td\")\n",
    "    #print(data)"
   ]
  },
  {
   "cell_type": "code",
   "execution_count": 72,
   "id": "7ae4ae45-91fe-47a9-a173-ec589fed56c1",
   "metadata": {},
   "outputs": [],
   "source": [
    "for i in rows[1:]:\n",
    "    data = i.find_all(\"td\")\n",
    "    row = [tr.text for tr in data]\n",
    "   # print(row)\n",
    "    l  = len(df)\n",
    "    df.loc[l] = row"
   ]
  },
  {
   "cell_type": "code",
   "execution_count": 74,
   "id": "2d8d87fe-ac74-44b9-ac12-ddc78940c3ec",
   "metadata": {},
   "outputs": [
    {
     "name": "stdout",
     "output_type": "stream",
     "text": [
      "                                         TEAM FUNDS REMAINING  \\\n",
      "0           \\n\\n\\n\\n\\nChennai Super Kings\\n\\n    ₹2,95,00,000   \n",
      "1                \\n\\n\\n\\n\\nDelhi Capitals\\n\\n      ₹10,00,000   \n",
      "2                \\n\\n\\n\\n\\nGujarat Titans\\n\\n      ₹15,00,000   \n",
      "3         \\n\\n\\n\\n\\nKolkata Knight Riders\\n\\n      ₹45,00,000   \n",
      "4          \\n\\n\\n\\n\\nLucknow Super Giants\\n\\n              ₹0   \n",
      "5                \\n\\n\\n\\n\\nMumbai Indians\\n\\n      ₹10,00,000   \n",
      "6                  \\n\\n\\n\\n\\nPunjab Kings\\n\\n    ₹3,45,00,000   \n",
      "7              \\n\\n\\n\\n\\nRajasthan Royals\\n\\n      ₹95,00,000   \n",
      "8   \\n\\n\\n\\n\\nRoyal Challengers Bangalore\\n\\n    ₹1,55,00,000   \n",
      "9           \\n\\n\\n\\n\\nSunrisers Hyderabad\\n\\n      ₹10,00,000   \n",
      "10          \\n\\n\\n\\n\\nChennai Super Kings\\n\\n    ₹2,95,00,000   \n",
      "11               \\n\\n\\n\\n\\nDelhi Capitals\\n\\n      ₹10,00,000   \n",
      "12               \\n\\n\\n\\n\\nGujarat Titans\\n\\n      ₹15,00,000   \n",
      "13        \\n\\n\\n\\n\\nKolkata Knight Riders\\n\\n      ₹45,00,000   \n",
      "14         \\n\\n\\n\\n\\nLucknow Super Giants\\n\\n              ₹0   \n",
      "15               \\n\\n\\n\\n\\nMumbai Indians\\n\\n      ₹10,00,000   \n",
      "16                 \\n\\n\\n\\n\\nPunjab Kings\\n\\n    ₹3,45,00,000   \n",
      "17             \\n\\n\\n\\n\\nRajasthan Royals\\n\\n      ₹95,00,000   \n",
      "18  \\n\\n\\n\\n\\nRoyal Challengers Bangalore\\n\\n    ₹1,55,00,000   \n",
      "19          \\n\\n\\n\\n\\nSunrisers Hyderabad\\n\\n      ₹10,00,000   \n",
      "20                        Chennai Super Kings    ₹2,95,00,000   \n",
      "21                             Delhi Capitals      ₹10,00,000   \n",
      "22                             Gujarat Titans      ₹15,00,000   \n",
      "23                      Kolkata Knight Riders      ₹45,00,000   \n",
      "24                       Lucknow Super Giants              ₹0   \n",
      "25                             Mumbai Indians      ₹10,00,000   \n",
      "26                               Punjab Kings    ₹3,45,00,000   \n",
      "27                           Rajasthan Royals      ₹95,00,000   \n",
      "28                Royal Challengers Bangalore    ₹1,55,00,000   \n",
      "29                        Sunrisers Hyderabad      ₹10,00,000   \n",
      "\n",
      "   OVERSEAS PLAYERS  TOTAL PLAYERS  \n",
      "0                  8            25  \n",
      "1                  7            24  \n",
      "2                  8            23  \n",
      "3                  8            25  \n",
      "4                  7            21  \n",
      "5                  8            25  \n",
      "6                  7            25  \n",
      "7                  8            24  \n",
      "8                  8            22  \n",
      "9                  8            23  \n",
      "10                 8            25  \n",
      "11                 7            24  \n",
      "12                 8            23  \n",
      "13                 8            25  \n",
      "14                 7            21  \n",
      "15                 8            25  \n",
      "16                 7            25  \n",
      "17                 8            24  \n",
      "18                 8            22  \n",
      "19                 8            23  \n",
      "20                 8            25  \n",
      "21                 7            24  \n",
      "22                 8            23  \n",
      "23                 8            25  \n",
      "24                 7            21  \n",
      "25                 8            25  \n",
      "26                 7            25  \n",
      "27                 8            24  \n",
      "28                 8            22  \n",
      "29                 8            23  \n"
     ]
    }
   ],
   "source": [
    "for i in rows[1:]:\n",
    "    first_td = i.find_all(\"td\")[0].find(\"div\",class_ =\"ih-pt-ic\").text.strip()\n",
    "    data = i.find_all(\"td\")[1:]\n",
    "    row = [tr.text for tr in data]\n",
    "    row.insert(0,first_td)\n",
    "    l = len(df)\n",
    "    df.loc[l] = row\n",
    "\n",
    "print(df)"
   ]
  },
  {
   "cell_type": "code",
   "execution_count": 76,
   "id": "46637461-0737-4eee-ab07-d9652efafc27",
   "metadata": {},
   "outputs": [],
   "source": [
    "df.to_csv(\"ipl auction stats 2022.csv\")"
   ]
  },
  {
   "cell_type": "code",
   "execution_count": null,
   "id": "d0c26726-5b43-418e-b74d-93ba544ca742",
   "metadata": {},
   "outputs": [],
   "source": []
  },
  {
   "cell_type": "code",
   "execution_count": null,
   "id": "c99ca37d-cc3b-4ee6-911b-e4c9234d50a1",
   "metadata": {},
   "outputs": [],
   "source": []
  },
  {
   "cell_type": "code",
   "execution_count": null,
   "id": "693aa7cc-64e9-4b02-a9dc-996f04e94511",
   "metadata": {},
   "outputs": [],
   "source": []
  },
  {
   "cell_type": "code",
   "execution_count": null,
   "id": "2f6f8fb6-74ea-4572-b208-9515d9bb249e",
   "metadata": {},
   "outputs": [],
   "source": []
  }
 ],
 "metadata": {
  "kernelspec": {
   "display_name": "Python 3 (ipykernel)",
   "language": "python",
   "name": "python3"
  },
  "language_info": {
   "codemirror_mode": {
    "name": "ipython",
    "version": 3
   },
   "file_extension": ".py",
   "mimetype": "text/x-python",
   "name": "python",
   "nbconvert_exporter": "python",
   "pygments_lexer": "ipython3",
   "version": "3.12.4"
  }
 },
 "nbformat": 4,
 "nbformat_minor": 5
}
